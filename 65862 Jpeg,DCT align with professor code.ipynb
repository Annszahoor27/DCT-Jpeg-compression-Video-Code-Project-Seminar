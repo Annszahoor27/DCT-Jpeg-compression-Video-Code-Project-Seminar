version https://git-lfs.github.com/spec/v1
oid sha256:df3b9783b256e609d4f1e79b8a4fb008a849ece81c0fe5995ca4d186717e9e07
size 106378530
